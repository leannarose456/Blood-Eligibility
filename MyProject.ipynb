{
 "cells": [
  {
   "cell_type": "markdown",
   "metadata": {},
   "source": [
    "# Project Description"
   ]
  },
  {
   "cell_type": "markdown",
   "metadata": {},
   "source": [
    "Hello! My project is a user friendly application that with just some basic information will tell you what blood donations they are eligible for! This project will return either \"a Whole Blood donation\", \"a Power Red Donation\" or both. I will take in demographics such as: height, weight, age, and gender and use that to compare and decide if that individual meets requirements for blood donations. \n",
    "\n",
    "I am making this project to make it one step easier in deciding if donating blood is right for someone, and giving them the information needed to make the correct appointment. \n",
    " "
   ]
  },
  {
   "cell_type": "markdown",
   "metadata": {},
   "source": [
    "## Project Code\n",
    "\n",
    "If it makes sense for your project, you can have code and outputs here in the notebook as well."
   ]
  },
  {
   "cell_type": "code",
   "execution_count": 15,
   "metadata": {
    "scrolled": true
   },
   "outputs": [],
   "source": [
    "from my_module.functions import get_info, check_whole, check_powerMale, check_powerFemale, advise_user\n"
   ]
  },
  {
   "cell_type": "code",
   "execution_count": 16,
   "metadata": {},
   "outputs": [
    {
     "name": "stdout",
     "output_type": "stream",
     "text": [
      "Hello! Please enter some basic information to recieve what blood donation services you may be eligible for.\n",
      "\n",
      "Please specify your sex: male or female male\n",
      "What is your age? 19\n",
      "What is your weight? 210\n",
      "What is your height? For example 5'5 = 5.5 5.11\n",
      "When was your last donation? Please enter # of days, if new donor enter 0. 0\n",
      "\n",
      "{'sex': 'male', 'age': 19, 'weight': 210, 'height': 5.11, 'last donation': 0}\n"
     ]
    }
   ],
   "source": [
    "# Do a bunch of things.\n",
    "input_dict = get_info()\n",
    "print()\n",
    "print(input_dict)"
   ]
  },
  {
   "cell_type": "code",
   "execution_count": 17,
   "metadata": {},
   "outputs": [
    {
     "name": "stdout",
     "output_type": "stream",
     "text": [
      "True\n",
      "True\n",
      "False\n"
     ]
    }
   ],
   "source": [
    "print(check_whole(input_dict))\n",
    "print(check_powerMale(input_dict))\n",
    "print(check_powerFemale(input_dict))"
   ]
  },
  {
   "cell_type": "code",
   "execution_count": 18,
   "metadata": {},
   "outputs": [
    {
     "name": "stdout",
     "output_type": "stream",
     "text": [
      "You're eligible to donate Whole Blood and Power Red!\n"
     ]
    }
   ],
   "source": [
    "print(advise_user(input_dict))"
   ]
  },
  {
   "cell_type": "code",
   "execution_count": 19,
   "metadata": {
    "scrolled": true
   },
   "outputs": [
    {
     "name": "stdout",
     "output_type": "stream",
     "text": [
      "\u001b[1m============================= test session starts ==============================\u001b[0m\n",
      "platform darwin -- Python 3.8.3, pytest-5.4.3, py-1.9.0, pluggy-0.13.1\n",
      "rootdir: /Users/leannasalas/Downloads/MyProject\n",
      "collected 4 items                                                              \u001b[0m\n",
      "\n",
      "my_module/test_functions.py \u001b[32m.\u001b[0m\u001b[32m.\u001b[0m\u001b[32m.\u001b[0m\u001b[32m.\u001b[0m\u001b[32m                                         [100%]\u001b[0m\n",
      "\n",
      "\u001b[32m============================== \u001b[32m\u001b[1m4 passed\u001b[0m\u001b[32m in 0.03s\u001b[0m\u001b[32m ===============================\u001b[0m\n"
     ]
    }
   ],
   "source": [
    "# test it out\n",
    "!pytest my_module/test_functions.py\n",
    "\n"
   ]
  },
  {
   "cell_type": "markdown",
   "metadata": {},
   "source": [
    "#### Extra Credit (*optional*)\n",
    "\n",
    "I have never worked in Python up until this quarter. In highschool I worked in Java and I would say I am borderline proficient. My highschool is pretty underfunded so our CS teacher was learning with us he would attend lectures and then come back and teach us. My class was the first time coding was offered in my highschool, so I feel extremely grateful to be exposed to coding before college.\n",
    "\n",
    "I feel like my project went above in beyond when looking back at my progess in all of coding. In highschool I started a similar project where I learned about importing the random function. I used it to mix up a list of blood types to give back possible types someone may be. And now I'm using all I've learned to create 5 functions! before I was only able to make a couple lines of code (which were mostly print statments lol)\n",
    "\n",
    "I feel like my project shows so much growth of understanding what functions are, how conditionals can be used, and even testing myself with dictionaries which are VERY new to me. I also learned how to fill a dict with user input which wasn't as scary as I thought. I also made test functions for every function! I have also added inline comments to make clear to a code reader what exactly my functions are doing, how I am assigning variables, along with my docstrings. \n",
    "\n"
   ]
  },
  {
   "cell_type": "code",
   "execution_count": null,
   "metadata": {},
   "outputs": [],
   "source": []
  },
  {
   "cell_type": "code",
   "execution_count": null,
   "metadata": {},
   "outputs": [],
   "source": []
  }
 ],
 "metadata": {
  "kernelspec": {
   "display_name": "Python 3",
   "language": "python",
   "name": "python3"
  },
  "language_info": {
   "codemirror_mode": {
    "name": "ipython",
    "version": 3
   },
   "file_extension": ".py",
   "mimetype": "text/x-python",
   "name": "python",
   "nbconvert_exporter": "python",
   "pygments_lexer": "ipython3",
   "version": "3.8.3"
  }
 },
 "nbformat": 4,
 "nbformat_minor": 2
}
